{
 "cells": [
  {
   "cell_type": "code",
   "execution_count": 3,
   "metadata": {},
   "outputs": [
    {
     "name": "stdout",
     "output_type": "stream",
     "text": [
      "python:3.7.4 (default, Aug  9 2019, 18:34:13) [MSC v.1915 64 bit (AMD64)]\n",
      "scipy:1.3.1\n",
      "numpy:1.16.5\n",
      "pandas:0.25.1\n",
      "matplotlib:3.1.1\n",
      "scikit-learn:0.21.3\n"
     ]
    }
   ],
   "source": [
    "#check the versions of libraries\n",
    "#python version\n",
    "import sys\n",
    "print(\"python:{}\".format(sys.version))\n",
    "#scipy\n",
    "import scipy\n",
    "print(\"scipy:{}\".format(scipy.__version__))\n",
    "#numpy\n",
    "import numpy\n",
    "print(\"numpy:{}\".format(numpy.__version__))\n",
    "#pandas\n",
    "import pandas\n",
    "print(\"pandas:{}\".format(pandas.__version__))\n",
    "#matplotlib\n",
    "import matplotlib\n",
    "print(\"matplotlib:{}\".format(matplotlib.__version__))\n",
    "#scikit-learn\n",
    "import sklearn\n",
    "print(\"scikit-learn:{}\".format(sklearn.__version__))"
   ]
  },
  {
   "cell_type": "code",
   "execution_count": 5,
   "metadata": {},
   "outputs": [],
   "source": [
    "import pandas\n",
    "from pandas.plotting import scatter_matrix\n",
    "import matplotlib.pyplot as plt\n",
    "from sklearn import model_selection\n",
    "from sklearn.metrics import classification_report\n",
    "from sklearn.metrics import confusion_matrix\n",
    "from sklearn.metrics import accuracy_score\n",
    "from sklearn.linear_model import LogisticRegression\n",
    "from sklearn.tree import DecisionTreeClassifier\n",
    "from sklearn.neighbors import KNeighborsClassifier\n",
    "from sklearn.discriminant_analysis import LinearDiscriminantAnalysis\n",
    "from sklearn.naive_bayes import GaussianNB\n",
    "from sklearn.svm import SVC"
   ]
  },
  {
   "cell_type": "code",
   "execution_count": null,
   "metadata": {},
   "outputs": [],
   "source": []
  }
 ],
 "metadata": {
  "kernelspec": {
   "display_name": "Python 3",
   "language": "python",
   "name": "python3"
  },
  "language_info": {
   "codemirror_mode": {
    "name": "ipython",
    "version": 3
   },
   "file_extension": ".py",
   "mimetype": "text/x-python",
   "name": "python",
   "nbconvert_exporter": "python",
   "pygments_lexer": "ipython3",
   "version": "3.7.4"
  }
 },
 "nbformat": 4,
 "nbformat_minor": 2
}
